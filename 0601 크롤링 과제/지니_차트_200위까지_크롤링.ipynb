{
  "nbformat": 4,
  "nbformat_minor": 0,
  "metadata": {
    "colab": {
      "provenance": []
    },
    "kernelspec": {
      "name": "python3",
      "display_name": "Python 3"
    },
    "language_info": {
      "name": "python"
    }
  },
  "cells": [
    {
      "cell_type": "code",
      "execution_count": 84,
      "metadata": {
        "id": "GxLhSZT3OYxa"
      },
      "outputs": [],
      "source": [
        "import requests\n",
        "import pandas as pd\n",
        "from bs4 import BeautifulSoup"
      ]
    },
    {
      "cell_type": "code",
      "source": [
        "# 지니 차트 200위까지 크롤링\n",
        "# 반복문을 사용하여 크롤링\n",
        "# 수집한 데이터를 데이터 프레임으로 저장\n",
        "# 엑셀로 내보내기\n",
        "# 과제는 github에 제출"
      ],
      "metadata": {
        "id": "zodD8WYuOr9m"
      },
      "execution_count": 85,
      "outputs": []
    },
    {
      "cell_type": "code",
      "source": [
        "site = 'https://www.genie.co.kr/chart/top200'\n",
        "header = {'User-Agent': 'Mozilla/5.0 (Windows NT 10.0; Win64; x64)'}\n",
        "request = requests.get(site, headers=header)\n",
        "print(request)"
      ],
      "metadata": {
        "colab": {
          "base_uri": "https://localhost:8080/"
        },
        "id": "o-edQwteOgUE",
        "outputId": "7840c376-3273-4ca0-c4ef-6605953b4cb4"
      },
      "execution_count": 86,
      "outputs": [
        {
          "output_type": "stream",
          "name": "stdout",
          "text": [
            "<Response [200]>\n"
          ]
        }
      ]
    },
    {
      "cell_type": "code",
      "source": [
        "soup = BeautifulSoup(request.text)"
      ],
      "metadata": {
        "id": "SDtyelsaO4A8"
      },
      "execution_count": 87,
      "outputs": []
    },
    {
      "cell_type": "code",
      "source": [
        "div = soup.find('div', {'class': 'rank-page-nav'})"
      ],
      "metadata": {
        "id": "ajiBM0LAO6yP"
      },
      "execution_count": 88,
      "outputs": []
    },
    {
      "cell_type": "code",
      "source": [
        "links = div.findAll('a')"
      ],
      "metadata": {
        "id": "u-3kY060V66Y"
      },
      "execution_count": 89,
      "outputs": []
    },
    {
      "cell_type": "code",
      "source": [
        "for link in links:\n",
        "    print(link['href'])"
      ],
      "metadata": {
        "colab": {
          "base_uri": "https://localhost:8080/"
        },
        "id": "XLIWALckWBzy",
        "outputId": "07a4e14b-f699-4c72-86f6-a8c9271cf309"
      },
      "execution_count": 90,
      "outputs": [
        {
          "output_type": "stream",
          "name": "stdout",
          "text": [
            "?ditc=D&ymd=20230601&hh=15&rtm=Y&pg=1\n",
            "?ditc=D&ymd=20230601&hh=15&rtm=Y&pg=2\n",
            "?ditc=D&ymd=20230601&hh=15&rtm=Y&pg=3\n",
            "?ditc=D&ymd=20230601&hh=15&rtm=Y&pg=4\n"
          ]
        }
      ]
    },
    {
      "cell_type": "code",
      "source": [
        "def genie_chart(link):\n",
        "    data = []\n",
        "    site = f'https://www.genie.co.kr/chart/top200{link}'\n",
        "    header = {'User-Agent': 'Mozilla/5.0 (Windows NT 10.0; Win64; x64)'}\n",
        "    request = requests.get(site, headers=header)\n",
        "    soup = BeautifulSoup(request.text)\n",
        "\n",
        "    ranks = soup.findAll('td', {'class': \"number\"})\n",
        "    titles = soup.findAll('a', {'class': \"title ellipsis\"})\n",
        "    artists = soup.findAll('a', {'class': \"artist\"})\n",
        "    albumtitles = soup.findAll('a', {'class': \"albumtitle\"})\n",
        "\n",
        "    for r, t, art, album in zip(ranks, titles, artists, albumtitles):\n",
        "        rank = r.text.strip().split('\\n')[0]\n",
        "        title = t.text.strip()\n",
        "        artist = art.text.strip()\n",
        "        albumtitle = album.text.strip()\n",
        "\n",
        "        data.append({'rank' : rank, 'title' : title, 'artist' : artist, 'albumtitle' : albumtitle})\n",
        "\n",
        "    return data"
      ],
      "metadata": {
        "id": "7sKnn9pZnxzy"
      },
      "execution_count": 91,
      "outputs": []
    },
    {
      "cell_type": "code",
      "source": [
        "datas = []\n",
        "for link in links:\n",
        "    url = link['href']\n",
        "    result = genie_chart(url)\n",
        "    # print(result)\n",
        "    datas += result"
      ],
      "metadata": {
        "id": "o26rTbyNn0MC"
      },
      "execution_count": 92,
      "outputs": []
    },
    {
      "cell_type": "code",
      "source": [
        "df = pd.DataFrame(datas)"
      ],
      "metadata": {
        "id": "u6dgTrzdpYEN"
      },
      "execution_count": 93,
      "outputs": []
    },
    {
      "cell_type": "code",
      "source": [
        "df"
      ],
      "metadata": {
        "colab": {
          "base_uri": "https://localhost:8080/",
          "height": 424
        },
        "id": "UBlVj7D5pgj0",
        "outputId": "44c3ed6c-4d8d-4a7b-a1e2-22650219579c"
      },
      "execution_count": 94,
      "outputs": [
        {
          "output_type": "execute_result",
          "data": {
            "text/plain": [
              "    rank                            title              artist  \\\n",
              "0      1                   퀸카 (Queencard)             (여자)아이들   \n",
              "1      2                             I AM           IVE (아이브)   \n",
              "2      3                            Spicy               aespa   \n",
              "3      4                           Kitsch           IVE (아이브)   \n",
              "4      5  UNFORGIVEN (Feat. Nile Rodgers)  LE SSERAFIM (르세라핌)   \n",
              "..   ...                              ...                 ...   \n",
              "195  196                             하루 끝               aespa   \n",
              "196  197                         SHAKE IT                 송하예   \n",
              "197  198                          커피한잔할래요        태연 (TAEYEON)   \n",
              "198  199                        제주도의 푸른 밤               프라이머리   \n",
              "199  200                            사랑했나봐        씨스타 (Sistar)   \n",
              "\n",
              "                        albumtitle  \n",
              "0                           I feel  \n",
              "1                         I've IVE  \n",
              "2    MY WORLD - The 3rd Mini Album  \n",
              "3                         I've IVE  \n",
              "4                       UNFORGIVEN  \n",
              "..                             ...  \n",
              "195                        스무 살의 봄  \n",
              "196                       SHAKE IT  \n",
              "197                       헤어질 걸 알아  \n",
              "198                        밴드 고맙삼다  \n",
              "199                          사랑했나봐  \n",
              "\n",
              "[200 rows x 4 columns]"
            ],
            "text/html": [
              "\n",
              "  <div id=\"df-3c3d7c4c-a788-44aa-b8d6-7ca445b2f9de\">\n",
              "    <div class=\"colab-df-container\">\n",
              "      <div>\n",
              "<style scoped>\n",
              "    .dataframe tbody tr th:only-of-type {\n",
              "        vertical-align: middle;\n",
              "    }\n",
              "\n",
              "    .dataframe tbody tr th {\n",
              "        vertical-align: top;\n",
              "    }\n",
              "\n",
              "    .dataframe thead th {\n",
              "        text-align: right;\n",
              "    }\n",
              "</style>\n",
              "<table border=\"1\" class=\"dataframe\">\n",
              "  <thead>\n",
              "    <tr style=\"text-align: right;\">\n",
              "      <th></th>\n",
              "      <th>rank</th>\n",
              "      <th>title</th>\n",
              "      <th>artist</th>\n",
              "      <th>albumtitle</th>\n",
              "    </tr>\n",
              "  </thead>\n",
              "  <tbody>\n",
              "    <tr>\n",
              "      <th>0</th>\n",
              "      <td>1</td>\n",
              "      <td>퀸카 (Queencard)</td>\n",
              "      <td>(여자)아이들</td>\n",
              "      <td>I feel</td>\n",
              "    </tr>\n",
              "    <tr>\n",
              "      <th>1</th>\n",
              "      <td>2</td>\n",
              "      <td>I AM</td>\n",
              "      <td>IVE (아이브)</td>\n",
              "      <td>I've IVE</td>\n",
              "    </tr>\n",
              "    <tr>\n",
              "      <th>2</th>\n",
              "      <td>3</td>\n",
              "      <td>Spicy</td>\n",
              "      <td>aespa</td>\n",
              "      <td>MY WORLD - The 3rd Mini Album</td>\n",
              "    </tr>\n",
              "    <tr>\n",
              "      <th>3</th>\n",
              "      <td>4</td>\n",
              "      <td>Kitsch</td>\n",
              "      <td>IVE (아이브)</td>\n",
              "      <td>I've IVE</td>\n",
              "    </tr>\n",
              "    <tr>\n",
              "      <th>4</th>\n",
              "      <td>5</td>\n",
              "      <td>UNFORGIVEN (Feat. Nile Rodgers)</td>\n",
              "      <td>LE SSERAFIM (르세라핌)</td>\n",
              "      <td>UNFORGIVEN</td>\n",
              "    </tr>\n",
              "    <tr>\n",
              "      <th>...</th>\n",
              "      <td>...</td>\n",
              "      <td>...</td>\n",
              "      <td>...</td>\n",
              "      <td>...</td>\n",
              "    </tr>\n",
              "    <tr>\n",
              "      <th>195</th>\n",
              "      <td>196</td>\n",
              "      <td>하루 끝</td>\n",
              "      <td>aespa</td>\n",
              "      <td>스무 살의 봄</td>\n",
              "    </tr>\n",
              "    <tr>\n",
              "      <th>196</th>\n",
              "      <td>197</td>\n",
              "      <td>SHAKE IT</td>\n",
              "      <td>송하예</td>\n",
              "      <td>SHAKE IT</td>\n",
              "    </tr>\n",
              "    <tr>\n",
              "      <th>197</th>\n",
              "      <td>198</td>\n",
              "      <td>커피한잔할래요</td>\n",
              "      <td>태연 (TAEYEON)</td>\n",
              "      <td>헤어질 걸 알아</td>\n",
              "    </tr>\n",
              "    <tr>\n",
              "      <th>198</th>\n",
              "      <td>199</td>\n",
              "      <td>제주도의 푸른 밤</td>\n",
              "      <td>프라이머리</td>\n",
              "      <td>밴드 고맙삼다</td>\n",
              "    </tr>\n",
              "    <tr>\n",
              "      <th>199</th>\n",
              "      <td>200</td>\n",
              "      <td>사랑했나봐</td>\n",
              "      <td>씨스타 (Sistar)</td>\n",
              "      <td>사랑했나봐</td>\n",
              "    </tr>\n",
              "  </tbody>\n",
              "</table>\n",
              "<p>200 rows × 4 columns</p>\n",
              "</div>\n",
              "      <button class=\"colab-df-convert\" onclick=\"convertToInteractive('df-3c3d7c4c-a788-44aa-b8d6-7ca445b2f9de')\"\n",
              "              title=\"Convert this dataframe to an interactive table.\"\n",
              "              style=\"display:none;\">\n",
              "        \n",
              "  <svg xmlns=\"http://www.w3.org/2000/svg\" height=\"24px\"viewBox=\"0 0 24 24\"\n",
              "       width=\"24px\">\n",
              "    <path d=\"M0 0h24v24H0V0z\" fill=\"none\"/>\n",
              "    <path d=\"M18.56 5.44l.94 2.06.94-2.06 2.06-.94-2.06-.94-.94-2.06-.94 2.06-2.06.94zm-11 1L8.5 8.5l.94-2.06 2.06-.94-2.06-.94L8.5 2.5l-.94 2.06-2.06.94zm10 10l.94 2.06.94-2.06 2.06-.94-2.06-.94-.94-2.06-.94 2.06-2.06.94z\"/><path d=\"M17.41 7.96l-1.37-1.37c-.4-.4-.92-.59-1.43-.59-.52 0-1.04.2-1.43.59L10.3 9.45l-7.72 7.72c-.78.78-.78 2.05 0 2.83L4 21.41c.39.39.9.59 1.41.59.51 0 1.02-.2 1.41-.59l7.78-7.78 2.81-2.81c.8-.78.8-2.07 0-2.86zM5.41 20L4 18.59l7.72-7.72 1.47 1.35L5.41 20z\"/>\n",
              "  </svg>\n",
              "      </button>\n",
              "      \n",
              "  <style>\n",
              "    .colab-df-container {\n",
              "      display:flex;\n",
              "      flex-wrap:wrap;\n",
              "      gap: 12px;\n",
              "    }\n",
              "\n",
              "    .colab-df-convert {\n",
              "      background-color: #E8F0FE;\n",
              "      border: none;\n",
              "      border-radius: 50%;\n",
              "      cursor: pointer;\n",
              "      display: none;\n",
              "      fill: #1967D2;\n",
              "      height: 32px;\n",
              "      padding: 0 0 0 0;\n",
              "      width: 32px;\n",
              "    }\n",
              "\n",
              "    .colab-df-convert:hover {\n",
              "      background-color: #E2EBFA;\n",
              "      box-shadow: 0px 1px 2px rgba(60, 64, 67, 0.3), 0px 1px 3px 1px rgba(60, 64, 67, 0.15);\n",
              "      fill: #174EA6;\n",
              "    }\n",
              "\n",
              "    [theme=dark] .colab-df-convert {\n",
              "      background-color: #3B4455;\n",
              "      fill: #D2E3FC;\n",
              "    }\n",
              "\n",
              "    [theme=dark] .colab-df-convert:hover {\n",
              "      background-color: #434B5C;\n",
              "      box-shadow: 0px 1px 3px 1px rgba(0, 0, 0, 0.15);\n",
              "      filter: drop-shadow(0px 1px 2px rgba(0, 0, 0, 0.3));\n",
              "      fill: #FFFFFF;\n",
              "    }\n",
              "  </style>\n",
              "\n",
              "      <script>\n",
              "        const buttonEl =\n",
              "          document.querySelector('#df-3c3d7c4c-a788-44aa-b8d6-7ca445b2f9de button.colab-df-convert');\n",
              "        buttonEl.style.display =\n",
              "          google.colab.kernel.accessAllowed ? 'block' : 'none';\n",
              "\n",
              "        async function convertToInteractive(key) {\n",
              "          const element = document.querySelector('#df-3c3d7c4c-a788-44aa-b8d6-7ca445b2f9de');\n",
              "          const dataTable =\n",
              "            await google.colab.kernel.invokeFunction('convertToInteractive',\n",
              "                                                     [key], {});\n",
              "          if (!dataTable) return;\n",
              "\n",
              "          const docLinkHtml = 'Like what you see? Visit the ' +\n",
              "            '<a target=\"_blank\" href=https://colab.research.google.com/notebooks/data_table.ipynb>data table notebook</a>'\n",
              "            + ' to learn more about interactive tables.';\n",
              "          element.innerHTML = '';\n",
              "          dataTable['output_type'] = 'display_data';\n",
              "          await google.colab.output.renderOutput(dataTable, element);\n",
              "          const docLink = document.createElement('div');\n",
              "          docLink.innerHTML = docLinkHtml;\n",
              "          element.appendChild(docLink);\n",
              "        }\n",
              "      </script>\n",
              "    </div>\n",
              "  </div>\n",
              "  "
            ]
          },
          "metadata": {},
          "execution_count": 94
        }
      ]
    },
    {
      "cell_type": "code",
      "source": [
        "df.to_excel('genie_chart.xlsx')"
      ],
      "metadata": {
        "id": "XaQXxvnVpnLZ"
      },
      "execution_count": 95,
      "outputs": []
    },
    {
      "cell_type": "code",
      "source": [],
      "metadata": {
        "id": "E_qGq2ijr52G"
      },
      "execution_count": 95,
      "outputs": []
    }
  ]
}