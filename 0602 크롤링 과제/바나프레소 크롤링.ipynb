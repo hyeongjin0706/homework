{
 "cells": [
  {
   "cell_type": "markdown",
   "id": "7da50424",
   "metadata": {},
   "source": [
    "### 과제1. \n",
    "* [바나프레소](https://banapresso.com/)\n",
    "* 매장명, 주소를 크롤링하여 excel로 내보내기"
   ]
  },
  {
   "cell_type": "code",
   "execution_count": 51,
   "id": "1dcb2424",
   "metadata": {},
   "outputs": [],
   "source": [
    "from selenium import webdriver\n",
    "import time\n",
    "import chromedriver_autoinstaller\n",
    "from selenium.webdriver.common.by import By\n",
    "from selenium.common.exceptions import NoSuchElementException\n",
    "import pandas as pd"
   ]
  },
  {
   "cell_type": "code",
   "execution_count": 2,
   "id": "1ba075a9",
   "metadata": {},
   "outputs": [],
   "source": [
    "driver = webdriver.Chrome()\n",
    "driver.implicitly_wait(3)"
   ]
  },
  {
   "cell_type": "code",
   "execution_count": 3,
   "id": "cb43651e",
   "metadata": {},
   "outputs": [],
   "source": [
    "url = 'https://banapresso.com/store'\n",
    "driver.get(url)"
   ]
  },
  {
   "cell_type": "code",
   "execution_count": 5,
   "id": "ce7adacf",
   "metadata": {},
   "outputs": [],
   "source": [
    "stores = driver.find_elements(By.CLASS_NAME, 'store_name_map')"
   ]
  },
  {
   "cell_type": "code",
   "execution_count": 11,
   "id": "b56f81ad",
   "metadata": {},
   "outputs": [
    {
     "name": "stdout",
     "output_type": "stream",
     "text": [
      "가산디지털단지역점\n",
      "서울시 금천구 가산동 60-3\n",
      "강남구청점\n",
      "서울 강남구 청담동 45-4\n",
      "강남역사거리점\n",
      "서울특별시 강남구 역삼동 820-10\n",
      "강남역점\n",
      "서울 강남구 역삼동822-7\n",
      "강남점\n",
      "서울 강남구 테헤란로4길 46 (역삼동 826-37) 쌍용 플래티넘, 1층\n",
      "강남효성점\n",
      "서울 강남구 역삼동 825-24\n",
      "강동역점\n",
      "서울 강동구 천호동 447\n",
      "거여역점\n",
      "서울특별시 송파구 거여동 37-6\n",
      "건대역점\n",
      "서울 광진구 아차산로 221 (화양동 7-4)\n",
      "경희대점\n",
      "서울 동대문구 경희대로4길 1\n"
     ]
    }
   ],
   "source": [
    "for store in stores:\n",
    "    print(store.find_element(By.TAG_NAME, 'i').text)\n",
    "    print(store.find_element(By.TAG_NAME, 'span').text)"
   ]
  },
  {
   "cell_type": "code",
   "execution_count": 18,
   "id": "5c9ffcb7",
   "metadata": {},
   "outputs": [
    {
     "name": "stdout",
     "output_type": "stream",
     "text": [
      "5\n"
     ]
    }
   ],
   "source": [
    "# 페이지 1, 2, 3, 4, 5\n",
    "paginations = driver.find_elements(By.CSS_SELECTOR,'div.pagination > ul a')"
   ]
  },
  {
   "cell_type": "code",
   "execution_count": 19,
   "id": "521e21a6",
   "metadata": {},
   "outputs": [
    {
     "name": "stdout",
     "output_type": "stream",
     "text": [
      "가산디지털단지역점\n",
      "서울시 금천구 가산동 60-3\n",
      "강남구청점\n",
      "서울 강남구 청담동 45-4\n",
      "강남역사거리점\n",
      "서울특별시 강남구 역삼동 820-10\n",
      "강남역점\n",
      "서울 강남구 역삼동822-7\n",
      "강남점\n",
      "서울 강남구 테헤란로4길 46 (역삼동 826-37) 쌍용 플래티넘, 1층\n",
      "강남효성점\n",
      "서울 강남구 역삼동 825-24\n",
      "강동역점\n",
      "서울 강동구 천호동 447\n",
      "거여역점\n",
      "서울특별시 송파구 거여동 37-6\n",
      "건대역점\n",
      "서울 광진구 아차산로 221 (화양동 7-4)\n",
      "경희대점\n",
      "서울 동대문구 경희대로4길 1\n",
      "광명하안점\n",
      "광명시 하안동 36-2\n",
      "교대사거리점\n",
      "서울 서초구 서초동 1598-1\n",
      "교대역점\n",
      "서울 서초구 반포대로30길 82\n",
      "교대점\n",
      "서울 서초구 서초대로54길 27, 1층\n",
      "교육개발원사거리점\n",
      "서울 서초구 강남대로27길 7-21 1층\n",
      "구로비즈메트로점\n",
      "서울시 구로구 구로동 851번지 한화비즈메트로1차 109호\n",
      "구로지플러스점\n",
      "서울시 구로구 구로동 222-31\n",
      "국기원사거리점\n",
      "서울 강남구 테헤란로8길 26 (역삼동827-48)\n",
      "군포첨단산업단지점\n",
      "경기도 군포시 부곡동 1244-4 1층\n",
      "길동역점\n",
      "서울 강동구 양재대로 1490 (길동 366-5)\n",
      "김포구래점\n",
      "경기도 김포시 구래동 6883-10 103호\n",
      "낙성대역점\n",
      "서울시 관악구 봉천동 1658-19\n",
      "남대문점\n",
      "서울 중구 세종대로 15 남대문5가 6-7\n",
      "남부터미널점\n",
      "서울 서초구 효령로57길 1\n",
      "답십리역점\n",
      "서울특별시 동대문구 천호대로 289, 한일노벨리아 104호\n",
      "대치선릉점\n",
      "서울특별시 강남구 대치동 890-45\n",
      "대치역점\n",
      "서울 강남구 대치동 507\n",
      "대치은마점\n",
      "서울 강남구 도곡로 451 (대치동 941-22) 한나빌딩, 1층\n",
      "대치점\n",
      "서울 강남구 테헤란로 84길 14 (대치동 942-19), 1층\n",
      "대치포스코점\n",
      "서울 강남구 테헤란로78길 16 (대치동 891-44) 노벨빌딩 증축동, 1층/2층\n",
      "도곡역점\n",
      "서울특별시 강남구 남부순환로 2909 여천빌딩\n",
      "독도점\n",
      "경상북도 울릉군 울릉읍 독도리 산 1-96\n",
      "뚝섬역점\n",
      "서울시 성동구 성수동1가 13-164\n",
      "무교점\n",
      "서울특별시 중구 다동 155\n",
      "문정역점\n",
      "서울 송파구 법원로128 (문정동642-3, SKV1빌딩 1층)\n",
      "미아사거리역점\n",
      "서울시 강북구 미아동 60-5\n",
      "방배역점\n",
      "서울시 서초구 방배동 909-8\n",
      "범계역점\n",
      "경기도 안양시 동안구 호계동 1045\n",
      "보라매역점\n",
      "서울시 동작구 대방동 400-3\n",
      "분당서현점\n",
      "경기도 성남시 분당구 서현동 268-6 101호\n",
      "사당역점\n",
      "서울 서초구 방배동444-15\n",
      "삼성점\n",
      "서울특별시 강남구 삼성동 157-4 1층\n",
      "삼성중앙역점\n",
      "서울 강남구 삼성동 51-2 1층\n",
      "삼성타운점\n",
      "서울 서초구 서초대로78길 26 (서초동1327-7)\n",
      "삼성테헤란로점\n",
      "서울시 강남구 삼성동 144-23 1층\n",
      "상암DMC점\n",
      "서울 마포구 상암동 1605\n",
      "서소문로점\n",
      "서울 중구 서소문로 130 1층\n",
      "서초법원점\n",
      "서울시 서초구 서초동 1554-5 아스트라 101호, 102호\n",
      "서초위브점\n",
      "서울 서초구 서초동 1362\n",
      "서초점\n",
      "서울 서초구 서초대로 254 B105호 (서초동, 오퓨런스)\n"
     ]
    }
   ],
   "source": [
    "for page in paginations:\n",
    "    page.click()\n",
    "    time.sleep(3)\n",
    "    \n",
    "    stores = driver.find_elements(By.CLASS_NAME, 'store_name_map')\n",
    "    \n",
    "    for store in stores:\n",
    "        print(store.find_element(By.TAG_NAME, 'i').text)\n",
    "        print(store.find_element(By.TAG_NAME, 'span').text)"
   ]
  },
  {
   "cell_type": "code",
   "execution_count": 47,
   "id": "a5681f28",
   "metadata": {},
   "outputs": [],
   "source": [
    "def next_page():\n",
    "    try:\n",
    "        next_page = driver.find_element(By.CSS_SELECTOR, '.btn_page_next > a')\n",
    "        print(\"다음페이지 있음\")\n",
    "    except NoSuchElementException:\n",
    "        print('다음 페이지가 없음')\n",
    "        return False\n",
    "    \n",
    "    next_page.click()\n",
    "    time.sleep(3)\n",
    "    \n",
    "    return True"
   ]
  },
  {
   "cell_type": "code",
   "execution_count": 48,
   "id": "0b73877a",
   "metadata": {},
   "outputs": [
    {
     "name": "stdout",
     "output_type": "stream",
     "text": [
      "다음 페이지가 없음\n"
     ]
    },
    {
     "data": {
      "text/plain": [
       "False"
      ]
     },
     "execution_count": 48,
     "metadata": {},
     "output_type": "execute_result"
    }
   ],
   "source": [
    "next_page()"
   ]
  },
  {
   "cell_type": "code",
   "execution_count": 38,
   "id": "1528fe92",
   "metadata": {},
   "outputs": [],
   "source": [
    "def get_datas():\n",
    "    datas = []\n",
    "    paginations = driver.find_elements(By.CSS_SELECTOR,'div.pagination > ul a')\n",
    "\n",
    "    for page in paginations:\n",
    "        page.click()\n",
    "        time.sleep(3)\n",
    "\n",
    "        stores = driver.find_elements(By.CLASS_NAME, 'store_name_map')\n",
    "\n",
    "        for store in stores:\n",
    "            store_name = store.find_element(By.TAG_NAME, 'i').text\n",
    "            store_address = store.find_element(By.TAG_NAME, 'span').text\n",
    "\n",
    "            dic = {'store_name':store_name, 'store_address':store_address}\n",
    "            datas.append(dic)\n",
    "            \n",
    "    return datas"
   ]
  },
  {
   "cell_type": "code",
   "execution_count": 49,
   "id": "39ea53c9",
   "metadata": {},
   "outputs": [
    {
     "name": "stdout",
     "output_type": "stream",
     "text": [
      "다음페이지 있음\n",
      "True\n",
      "다음페이지 있음\n",
      "True\n",
      "다음 페이지가 없음\n",
      "False\n"
     ]
    }
   ],
   "source": [
    "driver = webdriver.Chrome()\n",
    "driver.implicitly_wait(3)\n",
    "url = 'https://banapresso.com/store'\n",
    "bana_list = []\n",
    "flag = True\n",
    "\n",
    "driver.get(url)\n",
    "\n",
    "while flag:\n",
    "    result = get_datas()\n",
    "    bana_list += result\n",
    "    flag = next_page()\n",
    "    print(flag)"
   ]
  },
  {
   "cell_type": "code",
   "execution_count": 50,
   "id": "80f0ad63",
   "metadata": {},
   "outputs": [
    {
     "data": {
      "text/plain": [
       "110"
      ]
     },
     "execution_count": 50,
     "metadata": {},
     "output_type": "execute_result"
    }
   ],
   "source": [
    "len(bana_list)"
   ]
  },
  {
   "cell_type": "code",
   "execution_count": 53,
   "id": "30fd4e05",
   "metadata": {},
   "outputs": [],
   "source": [
    "df = pd.DataFrame(bana_list)"
   ]
  },
  {
   "cell_type": "code",
   "execution_count": 54,
   "id": "3123f43b",
   "metadata": {},
   "outputs": [
    {
     "data": {
      "text/html": [
       "<div>\n",
       "<style scoped>\n",
       "    .dataframe tbody tr th:only-of-type {\n",
       "        vertical-align: middle;\n",
       "    }\n",
       "\n",
       "    .dataframe tbody tr th {\n",
       "        vertical-align: top;\n",
       "    }\n",
       "\n",
       "    .dataframe thead th {\n",
       "        text-align: right;\n",
       "    }\n",
       "</style>\n",
       "<table border=\"1\" class=\"dataframe\">\n",
       "  <thead>\n",
       "    <tr style=\"text-align: right;\">\n",
       "      <th></th>\n",
       "      <th>store_name</th>\n",
       "      <th>store_address</th>\n",
       "    </tr>\n",
       "  </thead>\n",
       "  <tbody>\n",
       "    <tr>\n",
       "      <th>0</th>\n",
       "      <td>가산디지털단지역점</td>\n",
       "      <td>서울시 금천구 가산동 60-3</td>\n",
       "    </tr>\n",
       "    <tr>\n",
       "      <th>1</th>\n",
       "      <td>강남구청점</td>\n",
       "      <td>서울 강남구 청담동 45-4</td>\n",
       "    </tr>\n",
       "    <tr>\n",
       "      <th>2</th>\n",
       "      <td>강남역사거리점</td>\n",
       "      <td>서울특별시 강남구 역삼동 820-10</td>\n",
       "    </tr>\n",
       "    <tr>\n",
       "      <th>3</th>\n",
       "      <td>강남역점</td>\n",
       "      <td>서울 강남구 역삼동822-7</td>\n",
       "    </tr>\n",
       "    <tr>\n",
       "      <th>4</th>\n",
       "      <td>강남점</td>\n",
       "      <td>서울 강남구 테헤란로4길 46 (역삼동 826-37) 쌍용 플래티넘, 1층</td>\n",
       "    </tr>\n",
       "    <tr>\n",
       "      <th>5</th>\n",
       "      <td>강남효성점</td>\n",
       "      <td>서울 강남구 역삼동 825-24</td>\n",
       "    </tr>\n",
       "    <tr>\n",
       "      <th>6</th>\n",
       "      <td>강동역점</td>\n",
       "      <td>서울 강동구 천호동 447</td>\n",
       "    </tr>\n",
       "  </tbody>\n",
       "</table>\n",
       "</div>"
      ],
      "text/plain": [
       "  store_name                              store_address\n",
       "0  가산디지털단지역점                           서울시 금천구 가산동 60-3\n",
       "1      강남구청점                            서울 강남구 청담동 45-4\n",
       "2    강남역사거리점                       서울특별시 강남구 역삼동 820-10\n",
       "3       강남역점                            서울 강남구 역삼동822-7\n",
       "4        강남점  서울 강남구 테헤란로4길 46 (역삼동 826-37) 쌍용 플래티넘, 1층\n",
       "5      강남효성점                          서울 강남구 역삼동 825-24\n",
       "6       강동역점                             서울 강동구 천호동 447"
      ]
     },
     "execution_count": 54,
     "metadata": {},
     "output_type": "execute_result"
    }
   ],
   "source": [
    "df.head(7)"
   ]
  },
  {
   "cell_type": "code",
   "execution_count": 56,
   "id": "85cdee24",
   "metadata": {},
   "outputs": [],
   "source": [
    "df.to_excel('bana_list.xlsx')"
   ]
  }
 ],
 "metadata": {
  "kernelspec": {
   "display_name": "Python 3 (ipykernel)",
   "language": "python",
   "name": "python3"
  },
  "language_info": {
   "codemirror_mode": {
    "name": "ipython",
    "version": 3
   },
   "file_extension": ".py",
   "mimetype": "text/x-python",
   "name": "python",
   "nbconvert_exporter": "python",
   "pygments_lexer": "ipython3",
   "version": "3.8.6"
  }
 },
 "nbformat": 4,
 "nbformat_minor": 5
}
